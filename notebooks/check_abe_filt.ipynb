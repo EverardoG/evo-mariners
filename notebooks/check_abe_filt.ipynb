{
 "cells": [
  {
   "cell_type": "code",
   "execution_count": 1,
   "id": "034d45e1",
   "metadata": {},
   "outputs": [],
   "source": [
    "from pathlib import Path\n",
    "top_folder = Path('/Users/ever/hpc-share/first-run')"
   ]
  },
  {
   "cell_type": "code",
   "execution_count": 3,
   "id": "ba785085",
   "metadata": {},
   "outputs": [
    {
     "name": "stdout",
     "output_type": "stream",
     "text": [
      "Missing file: /Users/ever/hpc-share/first-run/generation-54/individual-27/logs/abe_positions_filtered.csv\n"
     ]
    }
   ],
   "source": [
    "from pathlib import Path\n",
    "\n",
    "# Define the top folder and the maximum generation to check\n",
    "top_folder = Path('/Users/ever/hpc-share/first-run')\n",
    "max_generation = 63\n",
    "\n",
    "# Iterate through each generation folder\n",
    "for gen in range(max_generation + 1):\n",
    "    gen_folder = top_folder / f'generation-{gen}'\n",
    "    if not gen_folder.exists():\n",
    "        print(f\"Generation folder missing: {gen_folder}\")\n",
    "        continue\n",
    "\n",
    "    # Iterate through each individual folder in the generation folder\n",
    "    for individual_folder in gen_folder.glob('individual-*'):\n",
    "        logs_folder = individual_folder / 'logs'\n",
    "        abe_file = logs_folder / 'abe_positions_filtered.csv'\n",
    "\n",
    "        # Check if the abe_positions_filtered.csv file exists\n",
    "        if not abe_file.exists():\n",
    "            print(f\"Missing file: {abe_file}\")"
   ]
  },
  {
   "cell_type": "code",
   "execution_count": null,
   "id": "6b36d0a2",
   "metadata": {},
   "outputs": [],
   "source": []
  }
 ],
 "metadata": {
  "kernelspec": {
   "display_name": "mariners",
   "language": "python",
   "name": "python3"
  },
  "language_info": {
   "codemirror_mode": {
    "name": "ipython",
    "version": 3
   },
   "file_extension": ".py",
   "mimetype": "text/x-python",
   "name": "python",
   "nbconvert_exporter": "python",
   "pygments_lexer": "ipython3",
   "version": "3.13.5"
  }
 },
 "nbformat": 4,
 "nbformat_minor": 5
}
